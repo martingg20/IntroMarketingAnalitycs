{
  "cells": [
    {
      "cell_type": "markdown",
      "metadata": {
        "id": "favnf6_vZHN1"
      },
      "source": [
        "# Análisis de Datos de Seguros - Enfoque Step-by-Step y Caso de Negocio\n",
        "\n",
        "Este notebook está diseñado para que resuelvas problemas paso a paso utilizando Python (usando funciones básicas como .mean(), filtros, value_counts y groupby) y que puedas comparar los resultados con el objetivo propuesto. Además, se plantea un caso de negocio ficticio en el que se asigna un gasto en marketing (CAC) para evaluar la rentabilidad y tomar decisiones estratégicas.\n",
        "\n",
        "El objetivo es evaluar tu habilidad para:\n",
        "- Explorar y analizar datos en Python.\n",
        "- Resolver problemas de análisis paso a paso.\n",
        "- Comparar resultados con objetivos estratégicos.\n",
        "- Formular conclusiones y recomendaciones basadas en los datos.\n",
        "\n",
        "¡Comencemos!"
      ]
    },
    {
      "cell_type": "code",
      "source": [
        "!wget https://github.com/javierherrera1996/IntroMarketingAnalytics/raw/refs/heads/main/PrimerCorte/WA_Fn-UseC_-Marketing-Customer-Value-Analysis.csv.zip\n",
        "!unzip WA_Fn-UseC_-Marketing-Customer-Value-Analysis.csv.zip"
      ],
      "metadata": {
        "colab": {
          "base_uri": "https://localhost:8080/"
        },
        "id": "-Uz11EAcZJMF",
        "outputId": "1ce03135-f073-4cd1-9da7-aa1f407b3074"
      },
      "execution_count": 1,
      "outputs": [
        {
          "output_type": "stream",
          "name": "stdout",
          "text": [
            "--2025-03-12 23:52:43--  https://github.com/javierherrera1996/IntroMarketingAnalytics/raw/refs/heads/main/PrimerCorte/WA_Fn-UseC_-Marketing-Customer-Value-Analysis.csv.zip\n",
            "Resolving github.com (github.com)... 140.82.116.4\n",
            "Connecting to github.com (github.com)|140.82.116.4|:443... connected.\n",
            "HTTP request sent, awaiting response... 302 Found\n",
            "Location: https://raw.githubusercontent.com/javierherrera1996/IntroMarketingAnalytics/refs/heads/main/PrimerCorte/WA_Fn-UseC_-Marketing-Customer-Value-Analysis.csv.zip [following]\n",
            "--2025-03-12 23:52:43--  https://raw.githubusercontent.com/javierherrera1996/IntroMarketingAnalytics/refs/heads/main/PrimerCorte/WA_Fn-UseC_-Marketing-Customer-Value-Analysis.csv.zip\n",
            "Resolving raw.githubusercontent.com (raw.githubusercontent.com)... 185.199.108.133, 185.199.109.133, 185.199.110.133, ...\n",
            "Connecting to raw.githubusercontent.com (raw.githubusercontent.com)|185.199.108.133|:443... connected.\n",
            "HTTP request sent, awaiting response... 200 OK\n",
            "Length: 352796 (345K) [application/zip]\n",
            "Saving to: ‘WA_Fn-UseC_-Marketing-Customer-Value-Analysis.csv.zip’\n",
            "\n",
            "WA_Fn-UseC_-Marketi 100%[===================>] 344.53K  --.-KB/s    in 0.03s   \n",
            "\n",
            "2025-03-12 23:52:44 (10.4 MB/s) - ‘WA_Fn-UseC_-Marketing-Customer-Value-Analysis.csv.zip’ saved [352796/352796]\n",
            "\n",
            "Archive:  WA_Fn-UseC_-Marketing-Customer-Value-Analysis.csv.zip\n",
            "  inflating: WA_Fn-UseC_-Marketing-Customer-Value-Analysis.csv  \n"
          ]
        }
      ]
    },
    {
      "cell_type": "markdown",
      "metadata": {
        "id": "rue7hNYKZHN4"
      },
      "source": [
        "## Paso 1: Exploración Inicial del Dataset\n",
        "1. Carga el dataset `WA_Fn-UseC_-Marketing-Customer-Value-Analysis.csv`.\n",
        "2. Revisa las primeras filas, dimensiones y la información general del dataset.\n",
        "\n",
        "_Observa la estructura de los datos: ¿Qué columnas tienes? ¿Se nota algún dato atípico?_"
      ]
    },
    {
      "cell_type": "code",
      "execution_count": 2,
      "metadata": {
        "id": "kFhepnyQZHN5"
      },
      "outputs": [],
      "source": [
        "# Cargar el dataset y ver primeras filas\n",
        "import pandas as pd\n",
        "import numpy as np\n",
        "\n",
        "df = pd.read_csv('WA_Fn-UseC_-Marketing-Customer-Value-Analysis.csv')\n",
        "pd.set_option('display.max_columns', None)\n"
      ]
    },
    {
      "cell_type": "markdown",
      "metadata": {
        "id": "QfxdKxY6ZHN5"
      },
      "source": [
        "## Paso 2: Análisis del Customer Lifetime Value (CLV)\n",
        "1. Calcula el CLV promedio y su desviación estándar.\n",
        "2. Reflexiona: ¿Qué indica una alta desviación? ¿Podrían existir segmentos de clientes con comportamientos muy distintos?"
      ]
    },
    {
      "cell_type": "code",
      "execution_count": null,
      "metadata": {
        "id": "BH6qM6SwZHN6",
        "outputId": "80964823-1b7f-4a73-a3d0-a30206864f64",
        "colab": {
          "base_uri": "https://localhost:8080/"
        }
      },
      "outputs": [
        {
          "output_type": "execute_result",
          "data": {
            "text/plain": [
              "8004.940474987081"
            ]
          },
          "metadata": {},
          "execution_count": 10
        }
      ],
      "source": [
        "df[\"Customer Lifetime Value\"].mean()\n"
      ]
    },
    {
      "cell_type": "markdown",
      "source": [
        "esto nos indica que cada cliente aporta una cantidad de dinero diferente a lo largo del tiempo, esto se puede deber a tendencias de compra o a su poder adquisitivo."
      ],
      "metadata": {
        "id": "8wRymlzLxBPs"
      }
    },
    {
      "cell_type": "markdown",
      "metadata": {
        "id": "3Dh1dhJ9ZHN6"
      },
      "source": [
        "## Paso 3: Evaluación de la Columna Response\n",
        "1. Usa `value_counts()` para ver cuántos clientes respondieron \"Yes\" y \"No\".\n",
        "2. Calcula el porcentaje de respuestas \"Yes\".\n",
        "\n",
        "Pregunta: ¿La proporción de \"Yes\" es baja? ¿Qué podría indicar esto respecto a la estrategia de respuesta?"
      ]
    },
    {
      "cell_type": "code",
      "execution_count": 5,
      "metadata": {
        "id": "UlKtfgUGZHN7",
        "outputId": "8c488312-990b-461b-9dc3-30243dab4c79",
        "colab": {
          "base_uri": "https://localhost:8080/",
          "height": 178
        }
      },
      "outputs": [
        {
          "output_type": "execute_result",
          "data": {
            "text/plain": [
              "Response\n",
              "No     0.856799\n",
              "Yes    0.143201\n",
              "Name: count, dtype: float64"
            ],
            "text/html": [
              "<div>\n",
              "<style scoped>\n",
              "    .dataframe tbody tr th:only-of-type {\n",
              "        vertical-align: middle;\n",
              "    }\n",
              "\n",
              "    .dataframe tbody tr th {\n",
              "        vertical-align: top;\n",
              "    }\n",
              "\n",
              "    .dataframe thead th {\n",
              "        text-align: right;\n",
              "    }\n",
              "</style>\n",
              "<table border=\"1\" class=\"dataframe\">\n",
              "  <thead>\n",
              "    <tr style=\"text-align: right;\">\n",
              "      <th></th>\n",
              "      <th>count</th>\n",
              "    </tr>\n",
              "    <tr>\n",
              "      <th>Response</th>\n",
              "      <th></th>\n",
              "    </tr>\n",
              "  </thead>\n",
              "  <tbody>\n",
              "    <tr>\n",
              "      <th>No</th>\n",
              "      <td>0.856799</td>\n",
              "    </tr>\n",
              "    <tr>\n",
              "      <th>Yes</th>\n",
              "      <td>0.143201</td>\n",
              "    </tr>\n",
              "  </tbody>\n",
              "</table>\n",
              "</div><br><label><b>dtype:</b> float64</label>"
            ]
          },
          "metadata": {},
          "execution_count": 5
        }
      ],
      "source": [
        "df[\"Response\"].value_counts()/df.shape[0]"
      ]
    },
    {
      "cell_type": "markdown",
      "source": [
        "esto puede indicar que la etrategia estuvo mal direccionada y o estructurada"
      ],
      "metadata": {
        "id": "HSGHxZcn0Aek"
      }
    },
    {
      "cell_type": "markdown",
      "metadata": {
        "id": "5Gl7vEKyZHN7"
      },
      "source": [
        "## Paso 4: Análisis de la Prima Mensual (Monthly Premium Auto) por Coverage\n",
        "1. Agrupa los datos por `Coverage` y calcula la media de `Monthly Premium Auto`.\n",
        "2. Compara los promedios obtenidos para cada tipo de Coverage.\n",
        "\n",
        "Pregunta: ¿Existen diferencias notables entre las coberturas? ¿Qué implicaciones tendría esto en la estrategia de precios?"
      ]
    },
    {
      "cell_type": "code",
      "execution_count": null,
      "metadata": {
        "id": "yzGcyR52ZHN8",
        "outputId": "ecf4049c-d527-4c66-bcd8-563f3f0dbaf5",
        "colab": {
          "base_uri": "https://localhost:8080/",
          "height": 210
        }
      },
      "outputs": [
        {
          "output_type": "execute_result",
          "data": {
            "text/plain": [
              "Coverage\n",
              "Basic        82.173851\n",
              "Extended    103.579504\n",
              "Premium     133.381068\n",
              "Name: Monthly Premium Auto, dtype: float64"
            ],
            "text/html": [
              "<div>\n",
              "<style scoped>\n",
              "    .dataframe tbody tr th:only-of-type {\n",
              "        vertical-align: middle;\n",
              "    }\n",
              "\n",
              "    .dataframe tbody tr th {\n",
              "        vertical-align: top;\n",
              "    }\n",
              "\n",
              "    .dataframe thead th {\n",
              "        text-align: right;\n",
              "    }\n",
              "</style>\n",
              "<table border=\"1\" class=\"dataframe\">\n",
              "  <thead>\n",
              "    <tr style=\"text-align: right;\">\n",
              "      <th></th>\n",
              "      <th>Monthly Premium Auto</th>\n",
              "    </tr>\n",
              "    <tr>\n",
              "      <th>Coverage</th>\n",
              "      <th></th>\n",
              "    </tr>\n",
              "  </thead>\n",
              "  <tbody>\n",
              "    <tr>\n",
              "      <th>Basic</th>\n",
              "      <td>82.173851</td>\n",
              "    </tr>\n",
              "    <tr>\n",
              "      <th>Extended</th>\n",
              "      <td>103.579504</td>\n",
              "    </tr>\n",
              "    <tr>\n",
              "      <th>Premium</th>\n",
              "      <td>133.381068</td>\n",
              "    </tr>\n",
              "  </tbody>\n",
              "</table>\n",
              "</div><br><label><b>dtype:</b> float64</label>"
            ]
          },
          "metadata": {},
          "execution_count": 13
        }
      ],
      "source": [
        "df.groupby(\"Coverage\")[\"Monthly Premium Auto\"].mean()"
      ]
    },
    {
      "cell_type": "markdown",
      "source": [
        "se pueden evidenciar diferencias entre las polizas. siendo las de mayor rango las mas vendidas. la empresa puede decidir tener una estrategia de precios altps ya que sus clientes parecen percibir mas valor entrev mayor sea el precio, ademas de que parecen ser presonas con buen poder adquisitivo."
      ],
      "metadata": {
        "id": "TTRVDL1M2B2A"
      }
    },
    {
      "cell_type": "markdown",
      "metadata": {
        "id": "UFsiRIveZHN8"
      },
      "source": [
        "## Paso 5: Análisis del Ingreso (Income) según EmploymentStatus\n",
        "1. Agrupa los datos por `EmploymentStatus` y calcula el ingreso promedio.\n",
        "\n",
        "Pregunta: ¿Qué diferencias encuentras entre los grupos? ¿Cómo podría influir esto en la segmentación de clientes?"
      ]
    },
    {
      "cell_type": "code",
      "execution_count": 6,
      "metadata": {
        "id": "KBd4a5TGZHN9",
        "colab": {
          "base_uri": "https://localhost:8080/",
          "height": 272
        },
        "outputId": "ba41224e-37b0-47c4-f50a-62369653054d"
      },
      "outputs": [
        {
          "output_type": "execute_result",
          "data": {
            "text/plain": [
              "EmploymentStatus\n",
              "Disabled         20045.582716\n",
              "Employed         56384.884521\n",
              "Medical Leave    20292.770833\n",
              "Retired          20554.960993\n",
              "Unemployed           0.000000\n",
              "Name: Income, dtype: float64"
            ],
            "text/html": [
              "<div>\n",
              "<style scoped>\n",
              "    .dataframe tbody tr th:only-of-type {\n",
              "        vertical-align: middle;\n",
              "    }\n",
              "\n",
              "    .dataframe tbody tr th {\n",
              "        vertical-align: top;\n",
              "    }\n",
              "\n",
              "    .dataframe thead th {\n",
              "        text-align: right;\n",
              "    }\n",
              "</style>\n",
              "<table border=\"1\" class=\"dataframe\">\n",
              "  <thead>\n",
              "    <tr style=\"text-align: right;\">\n",
              "      <th></th>\n",
              "      <th>Income</th>\n",
              "    </tr>\n",
              "    <tr>\n",
              "      <th>EmploymentStatus</th>\n",
              "      <th></th>\n",
              "    </tr>\n",
              "  </thead>\n",
              "  <tbody>\n",
              "    <tr>\n",
              "      <th>Disabled</th>\n",
              "      <td>20045.582716</td>\n",
              "    </tr>\n",
              "    <tr>\n",
              "      <th>Employed</th>\n",
              "      <td>56384.884521</td>\n",
              "    </tr>\n",
              "    <tr>\n",
              "      <th>Medical Leave</th>\n",
              "      <td>20292.770833</td>\n",
              "    </tr>\n",
              "    <tr>\n",
              "      <th>Retired</th>\n",
              "      <td>20554.960993</td>\n",
              "    </tr>\n",
              "    <tr>\n",
              "      <th>Unemployed</th>\n",
              "      <td>0.000000</td>\n",
              "    </tr>\n",
              "  </tbody>\n",
              "</table>\n",
              "</div><br><label><b>dtype:</b> float64</label>"
            ]
          },
          "metadata": {},
          "execution_count": 6
        }
      ],
      "source": [
        "df.groupby(\"EmploymentStatus\")[\"Income\"].mean()"
      ]
    },
    {
      "cell_type": "markdown",
      "source": [
        "la mejor opcion es enfocarse en trabajadores y retirados, ya que son los de mayores ingresos,los obtienen de manera constante y los segundos al ya tener edad se preocupan por estar asegurados en tema de salud, los discapacitdos y y licencias medicas no son tan rentables y que pueden hacer efectivas sus polizas con mas frecuencia disminuyenndo nuestras ganancias."
      ],
      "metadata": {
        "id": "QEjgf6H54VpZ"
      }
    },
    {
      "cell_type": "markdown",
      "metadata": {
        "id": "opvexkf8ZHN9"
      },
      "source": [
        "## Paso 6: Análisis del CLV por Estado\n",
        "1. Agrupa los datos por `State` y calcula el CLV promedio.\n",
        "\n",
        "Pregunta: ¿Qué estado muestra el mayor CLV? ¿Qué factores regionales podrían explicar esto?"
      ]
    },
    {
      "cell_type": "code",
      "execution_count": 7,
      "metadata": {
        "id": "jHYjEGLXZHN9",
        "colab": {
          "base_uri": "https://localhost:8080/",
          "height": 272
        },
        "outputId": "cd2dfa99-1f4a-43ca-b383-c74cc76faf66"
      },
      "outputs": [
        {
          "output_type": "execute_result",
          "data": {
            "text/plain": [
              "State\n",
              "Arizona       7861.341489\n",
              "California    8003.647758\n",
              "Nevada        8056.706839\n",
              "Oregon        8077.901191\n",
              "Washington    8021.472273\n",
              "Name: Customer Lifetime Value, dtype: float64"
            ],
            "text/html": [
              "<div>\n",
              "<style scoped>\n",
              "    .dataframe tbody tr th:only-of-type {\n",
              "        vertical-align: middle;\n",
              "    }\n",
              "\n",
              "    .dataframe tbody tr th {\n",
              "        vertical-align: top;\n",
              "    }\n",
              "\n",
              "    .dataframe thead th {\n",
              "        text-align: right;\n",
              "    }\n",
              "</style>\n",
              "<table border=\"1\" class=\"dataframe\">\n",
              "  <thead>\n",
              "    <tr style=\"text-align: right;\">\n",
              "      <th></th>\n",
              "      <th>Customer Lifetime Value</th>\n",
              "    </tr>\n",
              "    <tr>\n",
              "      <th>State</th>\n",
              "      <th></th>\n",
              "    </tr>\n",
              "  </thead>\n",
              "  <tbody>\n",
              "    <tr>\n",
              "      <th>Arizona</th>\n",
              "      <td>7861.341489</td>\n",
              "    </tr>\n",
              "    <tr>\n",
              "      <th>California</th>\n",
              "      <td>8003.647758</td>\n",
              "    </tr>\n",
              "    <tr>\n",
              "      <th>Nevada</th>\n",
              "      <td>8056.706839</td>\n",
              "    </tr>\n",
              "    <tr>\n",
              "      <th>Oregon</th>\n",
              "      <td>8077.901191</td>\n",
              "    </tr>\n",
              "    <tr>\n",
              "      <th>Washington</th>\n",
              "      <td>8021.472273</td>\n",
              "    </tr>\n",
              "  </tbody>\n",
              "</table>\n",
              "</div><br><label><b>dtype:</b> float64</label>"
            ]
          },
          "metadata": {},
          "execution_count": 7
        }
      ],
      "source": [
        "df.groupby(\"State\")[\"Customer Lifetime Value\"].mean()"
      ]
    },
    {
      "cell_type": "markdown",
      "source": [
        "el estado con mayor CLV es Oregon , se puede deber al pib per capita de cada region, a nuestra prresencia en ellas, factoes culturales alrededor de la importancia de los seguros, incluso a que tipo de actividades laborales predominan en cada estado."
      ],
      "metadata": {
        "id": "fexE4REG51Tw"
      }
    },
    {
      "cell_type": "markdown",
      "metadata": {
        "id": "r20lS6w2ZHN9"
      },
      "source": [
        "## Paso 7: Análisis del Total Claim Amount según el Número de Pólizas\n",
        "1. Separa a los clientes con más de 1 póliza de aquellos con 1 sola póliza.\n",
        "2. Calcula el Total Claim Amount promedio para cada grupo.\n",
        "\n",
        "Pregunta: ¿Qué diferencias encuentras y qué podrían indicar respecto al riesgo y comportamiento de reclamaciones?"
      ]
    },
    {
      "cell_type": "code",
      "source": [
        "df3=df[df[\"Number of Policies\"]==1]\n",
        "print(df3.shape)\n",
        "df3.head()"
      ],
      "metadata": {
        "colab": {
          "base_uri": "https://localhost:8080/",
          "height": 383
        },
        "id": "LcAAZ0l7-fws",
        "outputId": "73d194d2-27f1-4ac6-f68b-fb7a8c38694a"
      },
      "execution_count": 19,
      "outputs": [
        {
          "output_type": "stream",
          "name": "stdout",
          "text": [
            "(3251, 24)\n"
          ]
        },
        {
          "output_type": "execute_result",
          "data": {
            "text/plain": [
              "   Customer       State  Customer Lifetime Value Response Coverage  \\\n",
              "0   BU79786  Washington              2763.519279       No    Basic   \n",
              "4   HB64268  Washington              2813.692575       No    Basic   \n",
              "16  FV94802      Nevada              2566.867823       No    Basic   \n",
              "17  OE15005  California              3945.241604       No    Basic   \n",
              "20  ZK25313      Oregon              2872.051273       No    Basic   \n",
              "\n",
              "               Education Effective To Date EmploymentStatus Gender  Income  \\\n",
              "0               Bachelor           2/24/11         Employed      F   56274   \n",
              "4               Bachelor            2/3/11         Employed      M   43836   \n",
              "16  High School or Below            2/6/11    Medical Leave      M   25049   \n",
              "17               College            1/5/11    Medical Leave      M   28855   \n",
              "20  High School or Below           2/19/11         Employed      M   57749   \n",
              "\n",
              "   Location Code Marital Status  Monthly Premium Auto  \\\n",
              "0       Suburban        Married                    69   \n",
              "4          Rural         Single                    73   \n",
              "16      Suburban        Married                    67   \n",
              "17      Suburban        Married                   101   \n",
              "20      Suburban         Single                    74   \n",
              "\n",
              "    Months Since Last Claim  Months Since Policy Inception  \\\n",
              "0                        32                              5   \n",
              "4                        12                             44   \n",
              "16                       14                              7   \n",
              "17                       12                             59   \n",
              "20                       31                             21   \n",
              "\n",
              "    Number of Open Complaints  Number of Policies     Policy Type  \\\n",
              "0                           0                   1  Corporate Auto   \n",
              "4                           0                   1   Personal Auto   \n",
              "16                          0                   1   Personal Auto   \n",
              "17                          0                   1   Personal Auto   \n",
              "20                          0                   1   Personal Auto   \n",
              "\n",
              "          Policy Renew Offer Type Sales Channel  Total Claim Amount  \\\n",
              "0   Corporate L3           Offer1         Agent          384.811147   \n",
              "4    Personal L1           Offer1         Agent          138.130879   \n",
              "16   Personal L3           Offer2   Call Center          454.245098   \n",
              "17   Personal L2           Offer3   Call Center          647.442031   \n",
              "20   Personal L2           Offer1        Branch          355.200000   \n",
              "\n",
              "    Vehicle Class Vehicle Size  \n",
              "0    Two-Door Car      Medsize  \n",
              "4   Four-Door Car      Medsize  \n",
              "16   Two-Door Car      Medsize  \n",
              "17            SUV      Medsize  \n",
              "20   Two-Door Car      Medsize  "
            ],
            "text/html": [
              "\n",
              "  <div id=\"df-2fa4bde3-6b9d-4254-8e19-002d359b92dd\" class=\"colab-df-container\">\n",
              "    <div>\n",
              "<style scoped>\n",
              "    .dataframe tbody tr th:only-of-type {\n",
              "        vertical-align: middle;\n",
              "    }\n",
              "\n",
              "    .dataframe tbody tr th {\n",
              "        vertical-align: top;\n",
              "    }\n",
              "\n",
              "    .dataframe thead th {\n",
              "        text-align: right;\n",
              "    }\n",
              "</style>\n",
              "<table border=\"1\" class=\"dataframe\">\n",
              "  <thead>\n",
              "    <tr style=\"text-align: right;\">\n",
              "      <th></th>\n",
              "      <th>Customer</th>\n",
              "      <th>State</th>\n",
              "      <th>Customer Lifetime Value</th>\n",
              "      <th>Response</th>\n",
              "      <th>Coverage</th>\n",
              "      <th>Education</th>\n",
              "      <th>Effective To Date</th>\n",
              "      <th>EmploymentStatus</th>\n",
              "      <th>Gender</th>\n",
              "      <th>Income</th>\n",
              "      <th>Location Code</th>\n",
              "      <th>Marital Status</th>\n",
              "      <th>Monthly Premium Auto</th>\n",
              "      <th>Months Since Last Claim</th>\n",
              "      <th>Months Since Policy Inception</th>\n",
              "      <th>Number of Open Complaints</th>\n",
              "      <th>Number of Policies</th>\n",
              "      <th>Policy Type</th>\n",
              "      <th>Policy</th>\n",
              "      <th>Renew Offer Type</th>\n",
              "      <th>Sales Channel</th>\n",
              "      <th>Total Claim Amount</th>\n",
              "      <th>Vehicle Class</th>\n",
              "      <th>Vehicle Size</th>\n",
              "    </tr>\n",
              "  </thead>\n",
              "  <tbody>\n",
              "    <tr>\n",
              "      <th>0</th>\n",
              "      <td>BU79786</td>\n",
              "      <td>Washington</td>\n",
              "      <td>2763.519279</td>\n",
              "      <td>No</td>\n",
              "      <td>Basic</td>\n",
              "      <td>Bachelor</td>\n",
              "      <td>2/24/11</td>\n",
              "      <td>Employed</td>\n",
              "      <td>F</td>\n",
              "      <td>56274</td>\n",
              "      <td>Suburban</td>\n",
              "      <td>Married</td>\n",
              "      <td>69</td>\n",
              "      <td>32</td>\n",
              "      <td>5</td>\n",
              "      <td>0</td>\n",
              "      <td>1</td>\n",
              "      <td>Corporate Auto</td>\n",
              "      <td>Corporate L3</td>\n",
              "      <td>Offer1</td>\n",
              "      <td>Agent</td>\n",
              "      <td>384.811147</td>\n",
              "      <td>Two-Door Car</td>\n",
              "      <td>Medsize</td>\n",
              "    </tr>\n",
              "    <tr>\n",
              "      <th>4</th>\n",
              "      <td>HB64268</td>\n",
              "      <td>Washington</td>\n",
              "      <td>2813.692575</td>\n",
              "      <td>No</td>\n",
              "      <td>Basic</td>\n",
              "      <td>Bachelor</td>\n",
              "      <td>2/3/11</td>\n",
              "      <td>Employed</td>\n",
              "      <td>M</td>\n",
              "      <td>43836</td>\n",
              "      <td>Rural</td>\n",
              "      <td>Single</td>\n",
              "      <td>73</td>\n",
              "      <td>12</td>\n",
              "      <td>44</td>\n",
              "      <td>0</td>\n",
              "      <td>1</td>\n",
              "      <td>Personal Auto</td>\n",
              "      <td>Personal L1</td>\n",
              "      <td>Offer1</td>\n",
              "      <td>Agent</td>\n",
              "      <td>138.130879</td>\n",
              "      <td>Four-Door Car</td>\n",
              "      <td>Medsize</td>\n",
              "    </tr>\n",
              "    <tr>\n",
              "      <th>16</th>\n",
              "      <td>FV94802</td>\n",
              "      <td>Nevada</td>\n",
              "      <td>2566.867823</td>\n",
              "      <td>No</td>\n",
              "      <td>Basic</td>\n",
              "      <td>High School or Below</td>\n",
              "      <td>2/6/11</td>\n",
              "      <td>Medical Leave</td>\n",
              "      <td>M</td>\n",
              "      <td>25049</td>\n",
              "      <td>Suburban</td>\n",
              "      <td>Married</td>\n",
              "      <td>67</td>\n",
              "      <td>14</td>\n",
              "      <td>7</td>\n",
              "      <td>0</td>\n",
              "      <td>1</td>\n",
              "      <td>Personal Auto</td>\n",
              "      <td>Personal L3</td>\n",
              "      <td>Offer2</td>\n",
              "      <td>Call Center</td>\n",
              "      <td>454.245098</td>\n",
              "      <td>Two-Door Car</td>\n",
              "      <td>Medsize</td>\n",
              "    </tr>\n",
              "    <tr>\n",
              "      <th>17</th>\n",
              "      <td>OE15005</td>\n",
              "      <td>California</td>\n",
              "      <td>3945.241604</td>\n",
              "      <td>No</td>\n",
              "      <td>Basic</td>\n",
              "      <td>College</td>\n",
              "      <td>1/5/11</td>\n",
              "      <td>Medical Leave</td>\n",
              "      <td>M</td>\n",
              "      <td>28855</td>\n",
              "      <td>Suburban</td>\n",
              "      <td>Married</td>\n",
              "      <td>101</td>\n",
              "      <td>12</td>\n",
              "      <td>59</td>\n",
              "      <td>0</td>\n",
              "      <td>1</td>\n",
              "      <td>Personal Auto</td>\n",
              "      <td>Personal L2</td>\n",
              "      <td>Offer3</td>\n",
              "      <td>Call Center</td>\n",
              "      <td>647.442031</td>\n",
              "      <td>SUV</td>\n",
              "      <td>Medsize</td>\n",
              "    </tr>\n",
              "    <tr>\n",
              "      <th>20</th>\n",
              "      <td>ZK25313</td>\n",
              "      <td>Oregon</td>\n",
              "      <td>2872.051273</td>\n",
              "      <td>No</td>\n",
              "      <td>Basic</td>\n",
              "      <td>High School or Below</td>\n",
              "      <td>2/19/11</td>\n",
              "      <td>Employed</td>\n",
              "      <td>M</td>\n",
              "      <td>57749</td>\n",
              "      <td>Suburban</td>\n",
              "      <td>Single</td>\n",
              "      <td>74</td>\n",
              "      <td>31</td>\n",
              "      <td>21</td>\n",
              "      <td>0</td>\n",
              "      <td>1</td>\n",
              "      <td>Personal Auto</td>\n",
              "      <td>Personal L2</td>\n",
              "      <td>Offer1</td>\n",
              "      <td>Branch</td>\n",
              "      <td>355.200000</td>\n",
              "      <td>Two-Door Car</td>\n",
              "      <td>Medsize</td>\n",
              "    </tr>\n",
              "  </tbody>\n",
              "</table>\n",
              "</div>\n",
              "    <div class=\"colab-df-buttons\">\n",
              "\n",
              "  <div class=\"colab-df-container\">\n",
              "    <button class=\"colab-df-convert\" onclick=\"convertToInteractive('df-2fa4bde3-6b9d-4254-8e19-002d359b92dd')\"\n",
              "            title=\"Convert this dataframe to an interactive table.\"\n",
              "            style=\"display:none;\">\n",
              "\n",
              "  <svg xmlns=\"http://www.w3.org/2000/svg\" height=\"24px\" viewBox=\"0 -960 960 960\">\n",
              "    <path d=\"M120-120v-720h720v720H120Zm60-500h600v-160H180v160Zm220 220h160v-160H400v160Zm0 220h160v-160H400v160ZM180-400h160v-160H180v160Zm440 0h160v-160H620v160ZM180-180h160v-160H180v160Zm440 0h160v-160H620v160Z\"/>\n",
              "  </svg>\n",
              "    </button>\n",
              "\n",
              "  <style>\n",
              "    .colab-df-container {\n",
              "      display:flex;\n",
              "      gap: 12px;\n",
              "    }\n",
              "\n",
              "    .colab-df-convert {\n",
              "      background-color: #E8F0FE;\n",
              "      border: none;\n",
              "      border-radius: 50%;\n",
              "      cursor: pointer;\n",
              "      display: none;\n",
              "      fill: #1967D2;\n",
              "      height: 32px;\n",
              "      padding: 0 0 0 0;\n",
              "      width: 32px;\n",
              "    }\n",
              "\n",
              "    .colab-df-convert:hover {\n",
              "      background-color: #E2EBFA;\n",
              "      box-shadow: 0px 1px 2px rgba(60, 64, 67, 0.3), 0px 1px 3px 1px rgba(60, 64, 67, 0.15);\n",
              "      fill: #174EA6;\n",
              "    }\n",
              "\n",
              "    .colab-df-buttons div {\n",
              "      margin-bottom: 4px;\n",
              "    }\n",
              "\n",
              "    [theme=dark] .colab-df-convert {\n",
              "      background-color: #3B4455;\n",
              "      fill: #D2E3FC;\n",
              "    }\n",
              "\n",
              "    [theme=dark] .colab-df-convert:hover {\n",
              "      background-color: #434B5C;\n",
              "      box-shadow: 0px 1px 3px 1px rgba(0, 0, 0, 0.15);\n",
              "      filter: drop-shadow(0px 1px 2px rgba(0, 0, 0, 0.3));\n",
              "      fill: #FFFFFF;\n",
              "    }\n",
              "  </style>\n",
              "\n",
              "    <script>\n",
              "      const buttonEl =\n",
              "        document.querySelector('#df-2fa4bde3-6b9d-4254-8e19-002d359b92dd button.colab-df-convert');\n",
              "      buttonEl.style.display =\n",
              "        google.colab.kernel.accessAllowed ? 'block' : 'none';\n",
              "\n",
              "      async function convertToInteractive(key) {\n",
              "        const element = document.querySelector('#df-2fa4bde3-6b9d-4254-8e19-002d359b92dd');\n",
              "        const dataTable =\n",
              "          await google.colab.kernel.invokeFunction('convertToInteractive',\n",
              "                                                    [key], {});\n",
              "        if (!dataTable) return;\n",
              "\n",
              "        const docLinkHtml = 'Like what you see? Visit the ' +\n",
              "          '<a target=\"_blank\" href=https://colab.research.google.com/notebooks/data_table.ipynb>data table notebook</a>'\n",
              "          + ' to learn more about interactive tables.';\n",
              "        element.innerHTML = '';\n",
              "        dataTable['output_type'] = 'display_data';\n",
              "        await google.colab.output.renderOutput(dataTable, element);\n",
              "        const docLink = document.createElement('div');\n",
              "        docLink.innerHTML = docLinkHtml;\n",
              "        element.appendChild(docLink);\n",
              "      }\n",
              "    </script>\n",
              "  </div>\n",
              "\n",
              "\n",
              "<div id=\"df-80bfd9bc-d460-4eb5-92b3-140c690e4b7d\">\n",
              "  <button class=\"colab-df-quickchart\" onclick=\"quickchart('df-80bfd9bc-d460-4eb5-92b3-140c690e4b7d')\"\n",
              "            title=\"Suggest charts\"\n",
              "            style=\"display:none;\">\n",
              "\n",
              "<svg xmlns=\"http://www.w3.org/2000/svg\" height=\"24px\"viewBox=\"0 0 24 24\"\n",
              "     width=\"24px\">\n",
              "    <g>\n",
              "        <path d=\"M19 3H5c-1.1 0-2 .9-2 2v14c0 1.1.9 2 2 2h14c1.1 0 2-.9 2-2V5c0-1.1-.9-2-2-2zM9 17H7v-7h2v7zm4 0h-2V7h2v10zm4 0h-2v-4h2v4z\"/>\n",
              "    </g>\n",
              "</svg>\n",
              "  </button>\n",
              "\n",
              "<style>\n",
              "  .colab-df-quickchart {\n",
              "      --bg-color: #E8F0FE;\n",
              "      --fill-color: #1967D2;\n",
              "      --hover-bg-color: #E2EBFA;\n",
              "      --hover-fill-color: #174EA6;\n",
              "      --disabled-fill-color: #AAA;\n",
              "      --disabled-bg-color: #DDD;\n",
              "  }\n",
              "\n",
              "  [theme=dark] .colab-df-quickchart {\n",
              "      --bg-color: #3B4455;\n",
              "      --fill-color: #D2E3FC;\n",
              "      --hover-bg-color: #434B5C;\n",
              "      --hover-fill-color: #FFFFFF;\n",
              "      --disabled-bg-color: #3B4455;\n",
              "      --disabled-fill-color: #666;\n",
              "  }\n",
              "\n",
              "  .colab-df-quickchart {\n",
              "    background-color: var(--bg-color);\n",
              "    border: none;\n",
              "    border-radius: 50%;\n",
              "    cursor: pointer;\n",
              "    display: none;\n",
              "    fill: var(--fill-color);\n",
              "    height: 32px;\n",
              "    padding: 0;\n",
              "    width: 32px;\n",
              "  }\n",
              "\n",
              "  .colab-df-quickchart:hover {\n",
              "    background-color: var(--hover-bg-color);\n",
              "    box-shadow: 0 1px 2px rgba(60, 64, 67, 0.3), 0 1px 3px 1px rgba(60, 64, 67, 0.15);\n",
              "    fill: var(--button-hover-fill-color);\n",
              "  }\n",
              "\n",
              "  .colab-df-quickchart-complete:disabled,\n",
              "  .colab-df-quickchart-complete:disabled:hover {\n",
              "    background-color: var(--disabled-bg-color);\n",
              "    fill: var(--disabled-fill-color);\n",
              "    box-shadow: none;\n",
              "  }\n",
              "\n",
              "  .colab-df-spinner {\n",
              "    border: 2px solid var(--fill-color);\n",
              "    border-color: transparent;\n",
              "    border-bottom-color: var(--fill-color);\n",
              "    animation:\n",
              "      spin 1s steps(1) infinite;\n",
              "  }\n",
              "\n",
              "  @keyframes spin {\n",
              "    0% {\n",
              "      border-color: transparent;\n",
              "      border-bottom-color: var(--fill-color);\n",
              "      border-left-color: var(--fill-color);\n",
              "    }\n",
              "    20% {\n",
              "      border-color: transparent;\n",
              "      border-left-color: var(--fill-color);\n",
              "      border-top-color: var(--fill-color);\n",
              "    }\n",
              "    30% {\n",
              "      border-color: transparent;\n",
              "      border-left-color: var(--fill-color);\n",
              "      border-top-color: var(--fill-color);\n",
              "      border-right-color: var(--fill-color);\n",
              "    }\n",
              "    40% {\n",
              "      border-color: transparent;\n",
              "      border-right-color: var(--fill-color);\n",
              "      border-top-color: var(--fill-color);\n",
              "    }\n",
              "    60% {\n",
              "      border-color: transparent;\n",
              "      border-right-color: var(--fill-color);\n",
              "    }\n",
              "    80% {\n",
              "      border-color: transparent;\n",
              "      border-right-color: var(--fill-color);\n",
              "      border-bottom-color: var(--fill-color);\n",
              "    }\n",
              "    90% {\n",
              "      border-color: transparent;\n",
              "      border-bottom-color: var(--fill-color);\n",
              "    }\n",
              "  }\n",
              "</style>\n",
              "\n",
              "  <script>\n",
              "    async function quickchart(key) {\n",
              "      const quickchartButtonEl =\n",
              "        document.querySelector('#' + key + ' button');\n",
              "      quickchartButtonEl.disabled = true;  // To prevent multiple clicks.\n",
              "      quickchartButtonEl.classList.add('colab-df-spinner');\n",
              "      try {\n",
              "        const charts = await google.colab.kernel.invokeFunction(\n",
              "            'suggestCharts', [key], {});\n",
              "      } catch (error) {\n",
              "        console.error('Error during call to suggestCharts:', error);\n",
              "      }\n",
              "      quickchartButtonEl.classList.remove('colab-df-spinner');\n",
              "      quickchartButtonEl.classList.add('colab-df-quickchart-complete');\n",
              "    }\n",
              "    (() => {\n",
              "      let quickchartButtonEl =\n",
              "        document.querySelector('#df-80bfd9bc-d460-4eb5-92b3-140c690e4b7d button');\n",
              "      quickchartButtonEl.style.display =\n",
              "        google.colab.kernel.accessAllowed ? 'block' : 'none';\n",
              "    })();\n",
              "  </script>\n",
              "</div>\n",
              "\n",
              "    </div>\n",
              "  </div>\n"
            ],
            "application/vnd.google.colaboratory.intrinsic+json": {
              "type": "dataframe",
              "variable_name": "df3"
            }
          },
          "metadata": {},
          "execution_count": 19
        }
      ]
    },
    {
      "cell_type": "code",
      "source": [
        "df3[\"Total Claim Amount\"].mean()"
      ],
      "metadata": {
        "colab": {
          "base_uri": "https://localhost:8080/"
        },
        "id": "aWiiGaYi-rmh",
        "outputId": "a0328222-031b-442d-ce0a-d868e1905c8f"
      },
      "execution_count": 21,
      "outputs": [
        {
          "output_type": "execute_result",
          "data": {
            "text/plain": [
              "440.2785319286374"
            ]
          },
          "metadata": {},
          "execution_count": 21
        }
      ]
    },
    {
      "cell_type": "code",
      "execution_count": 18,
      "metadata": {
        "id": "oV66YptbZHN9",
        "colab": {
          "base_uri": "https://localhost:8080/",
          "height": 383
        },
        "outputId": "c5414dd0-11a4-46a4-c0c9-b770f57e6eda"
      },
      "outputs": [
        {
          "output_type": "stream",
          "name": "stdout",
          "text": [
            "(5883, 24)\n"
          ]
        },
        {
          "output_type": "execute_result",
          "data": {
            "text/plain": [
              "  Customer       State  Customer Lifetime Value Response  Coverage Education  \\\n",
              "1  QZ44356     Arizona              6979.535903       No  Extended  Bachelor   \n",
              "2  AI49188      Nevada             12887.431650       No   Premium  Bachelor   \n",
              "3  WW63253  California              7645.861827       No     Basic  Bachelor   \n",
              "5  OC83172      Oregon              8256.297800      Yes     Basic  Bachelor   \n",
              "6  XZ87318      Oregon              5380.898636      Yes     Basic   College   \n",
              "\n",
              "  Effective To Date EmploymentStatus Gender  Income Location Code  \\\n",
              "1           1/31/11       Unemployed      F       0      Suburban   \n",
              "2           2/19/11         Employed      F   48767      Suburban   \n",
              "3           1/20/11       Unemployed      M       0      Suburban   \n",
              "5           1/25/11         Employed      F   62902         Rural   \n",
              "6           2/24/11         Employed      F   55350      Suburban   \n",
              "\n",
              "  Marital Status  Monthly Premium Auto  Months Since Last Claim  \\\n",
              "1         Single                    94                       13   \n",
              "2        Married                   108                       18   \n",
              "3        Married                   106                       18   \n",
              "5        Married                    69                       14   \n",
              "6        Married                    67                        0   \n",
              "\n",
              "   Months Since Policy Inception  Number of Open Complaints  \\\n",
              "1                             42                          0   \n",
              "2                             38                          0   \n",
              "3                             65                          0   \n",
              "5                             94                          0   \n",
              "6                             13                          0   \n",
              "\n",
              "   Number of Policies     Policy Type        Policy Renew Offer Type  \\\n",
              "1                   8   Personal Auto   Personal L3           Offer3   \n",
              "2                   2   Personal Auto   Personal L3           Offer1   \n",
              "3                   7  Corporate Auto  Corporate L2           Offer1   \n",
              "5                   2   Personal Auto   Personal L3           Offer2   \n",
              "6                   9  Corporate Auto  Corporate L3           Offer1   \n",
              "\n",
              "  Sales Channel  Total Claim Amount  Vehicle Class Vehicle Size  \n",
              "1         Agent         1131.464935  Four-Door Car      Medsize  \n",
              "2         Agent          566.472247   Two-Door Car      Medsize  \n",
              "3   Call Center          529.881344            SUV      Medsize  \n",
              "5           Web          159.383042   Two-Door Car      Medsize  \n",
              "6         Agent          321.600000  Four-Door Car      Medsize  "
            ],
            "text/html": [
              "\n",
              "  <div id=\"df-935ebe70-a8f6-42b6-bf08-dad21e0c47dc\" class=\"colab-df-container\">\n",
              "    <div>\n",
              "<style scoped>\n",
              "    .dataframe tbody tr th:only-of-type {\n",
              "        vertical-align: middle;\n",
              "    }\n",
              "\n",
              "    .dataframe tbody tr th {\n",
              "        vertical-align: top;\n",
              "    }\n",
              "\n",
              "    .dataframe thead th {\n",
              "        text-align: right;\n",
              "    }\n",
              "</style>\n",
              "<table border=\"1\" class=\"dataframe\">\n",
              "  <thead>\n",
              "    <tr style=\"text-align: right;\">\n",
              "      <th></th>\n",
              "      <th>Customer</th>\n",
              "      <th>State</th>\n",
              "      <th>Customer Lifetime Value</th>\n",
              "      <th>Response</th>\n",
              "      <th>Coverage</th>\n",
              "      <th>Education</th>\n",
              "      <th>Effective To Date</th>\n",
              "      <th>EmploymentStatus</th>\n",
              "      <th>Gender</th>\n",
              "      <th>Income</th>\n",
              "      <th>Location Code</th>\n",
              "      <th>Marital Status</th>\n",
              "      <th>Monthly Premium Auto</th>\n",
              "      <th>Months Since Last Claim</th>\n",
              "      <th>Months Since Policy Inception</th>\n",
              "      <th>Number of Open Complaints</th>\n",
              "      <th>Number of Policies</th>\n",
              "      <th>Policy Type</th>\n",
              "      <th>Policy</th>\n",
              "      <th>Renew Offer Type</th>\n",
              "      <th>Sales Channel</th>\n",
              "      <th>Total Claim Amount</th>\n",
              "      <th>Vehicle Class</th>\n",
              "      <th>Vehicle Size</th>\n",
              "    </tr>\n",
              "  </thead>\n",
              "  <tbody>\n",
              "    <tr>\n",
              "      <th>1</th>\n",
              "      <td>QZ44356</td>\n",
              "      <td>Arizona</td>\n",
              "      <td>6979.535903</td>\n",
              "      <td>No</td>\n",
              "      <td>Extended</td>\n",
              "      <td>Bachelor</td>\n",
              "      <td>1/31/11</td>\n",
              "      <td>Unemployed</td>\n",
              "      <td>F</td>\n",
              "      <td>0</td>\n",
              "      <td>Suburban</td>\n",
              "      <td>Single</td>\n",
              "      <td>94</td>\n",
              "      <td>13</td>\n",
              "      <td>42</td>\n",
              "      <td>0</td>\n",
              "      <td>8</td>\n",
              "      <td>Personal Auto</td>\n",
              "      <td>Personal L3</td>\n",
              "      <td>Offer3</td>\n",
              "      <td>Agent</td>\n",
              "      <td>1131.464935</td>\n",
              "      <td>Four-Door Car</td>\n",
              "      <td>Medsize</td>\n",
              "    </tr>\n",
              "    <tr>\n",
              "      <th>2</th>\n",
              "      <td>AI49188</td>\n",
              "      <td>Nevada</td>\n",
              "      <td>12887.431650</td>\n",
              "      <td>No</td>\n",
              "      <td>Premium</td>\n",
              "      <td>Bachelor</td>\n",
              "      <td>2/19/11</td>\n",
              "      <td>Employed</td>\n",
              "      <td>F</td>\n",
              "      <td>48767</td>\n",
              "      <td>Suburban</td>\n",
              "      <td>Married</td>\n",
              "      <td>108</td>\n",
              "      <td>18</td>\n",
              "      <td>38</td>\n",
              "      <td>0</td>\n",
              "      <td>2</td>\n",
              "      <td>Personal Auto</td>\n",
              "      <td>Personal L3</td>\n",
              "      <td>Offer1</td>\n",
              "      <td>Agent</td>\n",
              "      <td>566.472247</td>\n",
              "      <td>Two-Door Car</td>\n",
              "      <td>Medsize</td>\n",
              "    </tr>\n",
              "    <tr>\n",
              "      <th>3</th>\n",
              "      <td>WW63253</td>\n",
              "      <td>California</td>\n",
              "      <td>7645.861827</td>\n",
              "      <td>No</td>\n",
              "      <td>Basic</td>\n",
              "      <td>Bachelor</td>\n",
              "      <td>1/20/11</td>\n",
              "      <td>Unemployed</td>\n",
              "      <td>M</td>\n",
              "      <td>0</td>\n",
              "      <td>Suburban</td>\n",
              "      <td>Married</td>\n",
              "      <td>106</td>\n",
              "      <td>18</td>\n",
              "      <td>65</td>\n",
              "      <td>0</td>\n",
              "      <td>7</td>\n",
              "      <td>Corporate Auto</td>\n",
              "      <td>Corporate L2</td>\n",
              "      <td>Offer1</td>\n",
              "      <td>Call Center</td>\n",
              "      <td>529.881344</td>\n",
              "      <td>SUV</td>\n",
              "      <td>Medsize</td>\n",
              "    </tr>\n",
              "    <tr>\n",
              "      <th>5</th>\n",
              "      <td>OC83172</td>\n",
              "      <td>Oregon</td>\n",
              "      <td>8256.297800</td>\n",
              "      <td>Yes</td>\n",
              "      <td>Basic</td>\n",
              "      <td>Bachelor</td>\n",
              "      <td>1/25/11</td>\n",
              "      <td>Employed</td>\n",
              "      <td>F</td>\n",
              "      <td>62902</td>\n",
              "      <td>Rural</td>\n",
              "      <td>Married</td>\n",
              "      <td>69</td>\n",
              "      <td>14</td>\n",
              "      <td>94</td>\n",
              "      <td>0</td>\n",
              "      <td>2</td>\n",
              "      <td>Personal Auto</td>\n",
              "      <td>Personal L3</td>\n",
              "      <td>Offer2</td>\n",
              "      <td>Web</td>\n",
              "      <td>159.383042</td>\n",
              "      <td>Two-Door Car</td>\n",
              "      <td>Medsize</td>\n",
              "    </tr>\n",
              "    <tr>\n",
              "      <th>6</th>\n",
              "      <td>XZ87318</td>\n",
              "      <td>Oregon</td>\n",
              "      <td>5380.898636</td>\n",
              "      <td>Yes</td>\n",
              "      <td>Basic</td>\n",
              "      <td>College</td>\n",
              "      <td>2/24/11</td>\n",
              "      <td>Employed</td>\n",
              "      <td>F</td>\n",
              "      <td>55350</td>\n",
              "      <td>Suburban</td>\n",
              "      <td>Married</td>\n",
              "      <td>67</td>\n",
              "      <td>0</td>\n",
              "      <td>13</td>\n",
              "      <td>0</td>\n",
              "      <td>9</td>\n",
              "      <td>Corporate Auto</td>\n",
              "      <td>Corporate L3</td>\n",
              "      <td>Offer1</td>\n",
              "      <td>Agent</td>\n",
              "      <td>321.600000</td>\n",
              "      <td>Four-Door Car</td>\n",
              "      <td>Medsize</td>\n",
              "    </tr>\n",
              "  </tbody>\n",
              "</table>\n",
              "</div>\n",
              "    <div class=\"colab-df-buttons\">\n",
              "\n",
              "  <div class=\"colab-df-container\">\n",
              "    <button class=\"colab-df-convert\" onclick=\"convertToInteractive('df-935ebe70-a8f6-42b6-bf08-dad21e0c47dc')\"\n",
              "            title=\"Convert this dataframe to an interactive table.\"\n",
              "            style=\"display:none;\">\n",
              "\n",
              "  <svg xmlns=\"http://www.w3.org/2000/svg\" height=\"24px\" viewBox=\"0 -960 960 960\">\n",
              "    <path d=\"M120-120v-720h720v720H120Zm60-500h600v-160H180v160Zm220 220h160v-160H400v160Zm0 220h160v-160H400v160ZM180-400h160v-160H180v160Zm440 0h160v-160H620v160ZM180-180h160v-160H180v160Zm440 0h160v-160H620v160Z\"/>\n",
              "  </svg>\n",
              "    </button>\n",
              "\n",
              "  <style>\n",
              "    .colab-df-container {\n",
              "      display:flex;\n",
              "      gap: 12px;\n",
              "    }\n",
              "\n",
              "    .colab-df-convert {\n",
              "      background-color: #E8F0FE;\n",
              "      border: none;\n",
              "      border-radius: 50%;\n",
              "      cursor: pointer;\n",
              "      display: none;\n",
              "      fill: #1967D2;\n",
              "      height: 32px;\n",
              "      padding: 0 0 0 0;\n",
              "      width: 32px;\n",
              "    }\n",
              "\n",
              "    .colab-df-convert:hover {\n",
              "      background-color: #E2EBFA;\n",
              "      box-shadow: 0px 1px 2px rgba(60, 64, 67, 0.3), 0px 1px 3px 1px rgba(60, 64, 67, 0.15);\n",
              "      fill: #174EA6;\n",
              "    }\n",
              "\n",
              "    .colab-df-buttons div {\n",
              "      margin-bottom: 4px;\n",
              "    }\n",
              "\n",
              "    [theme=dark] .colab-df-convert {\n",
              "      background-color: #3B4455;\n",
              "      fill: #D2E3FC;\n",
              "    }\n",
              "\n",
              "    [theme=dark] .colab-df-convert:hover {\n",
              "      background-color: #434B5C;\n",
              "      box-shadow: 0px 1px 3px 1px rgba(0, 0, 0, 0.15);\n",
              "      filter: drop-shadow(0px 1px 2px rgba(0, 0, 0, 0.3));\n",
              "      fill: #FFFFFF;\n",
              "    }\n",
              "  </style>\n",
              "\n",
              "    <script>\n",
              "      const buttonEl =\n",
              "        document.querySelector('#df-935ebe70-a8f6-42b6-bf08-dad21e0c47dc button.colab-df-convert');\n",
              "      buttonEl.style.display =\n",
              "        google.colab.kernel.accessAllowed ? 'block' : 'none';\n",
              "\n",
              "      async function convertToInteractive(key) {\n",
              "        const element = document.querySelector('#df-935ebe70-a8f6-42b6-bf08-dad21e0c47dc');\n",
              "        const dataTable =\n",
              "          await google.colab.kernel.invokeFunction('convertToInteractive',\n",
              "                                                    [key], {});\n",
              "        if (!dataTable) return;\n",
              "\n",
              "        const docLinkHtml = 'Like what you see? Visit the ' +\n",
              "          '<a target=\"_blank\" href=https://colab.research.google.com/notebooks/data_table.ipynb>data table notebook</a>'\n",
              "          + ' to learn more about interactive tables.';\n",
              "        element.innerHTML = '';\n",
              "        dataTable['output_type'] = 'display_data';\n",
              "        await google.colab.output.renderOutput(dataTable, element);\n",
              "        const docLink = document.createElement('div');\n",
              "        docLink.innerHTML = docLinkHtml;\n",
              "        element.appendChild(docLink);\n",
              "      }\n",
              "    </script>\n",
              "  </div>\n",
              "\n",
              "\n",
              "<div id=\"df-7c76bd9b-39a8-49a3-8478-59148759d79b\">\n",
              "  <button class=\"colab-df-quickchart\" onclick=\"quickchart('df-7c76bd9b-39a8-49a3-8478-59148759d79b')\"\n",
              "            title=\"Suggest charts\"\n",
              "            style=\"display:none;\">\n",
              "\n",
              "<svg xmlns=\"http://www.w3.org/2000/svg\" height=\"24px\"viewBox=\"0 0 24 24\"\n",
              "     width=\"24px\">\n",
              "    <g>\n",
              "        <path d=\"M19 3H5c-1.1 0-2 .9-2 2v14c0 1.1.9 2 2 2h14c1.1 0 2-.9 2-2V5c0-1.1-.9-2-2-2zM9 17H7v-7h2v7zm4 0h-2V7h2v10zm4 0h-2v-4h2v4z\"/>\n",
              "    </g>\n",
              "</svg>\n",
              "  </button>\n",
              "\n",
              "<style>\n",
              "  .colab-df-quickchart {\n",
              "      --bg-color: #E8F0FE;\n",
              "      --fill-color: #1967D2;\n",
              "      --hover-bg-color: #E2EBFA;\n",
              "      --hover-fill-color: #174EA6;\n",
              "      --disabled-fill-color: #AAA;\n",
              "      --disabled-bg-color: #DDD;\n",
              "  }\n",
              "\n",
              "  [theme=dark] .colab-df-quickchart {\n",
              "      --bg-color: #3B4455;\n",
              "      --fill-color: #D2E3FC;\n",
              "      --hover-bg-color: #434B5C;\n",
              "      --hover-fill-color: #FFFFFF;\n",
              "      --disabled-bg-color: #3B4455;\n",
              "      --disabled-fill-color: #666;\n",
              "  }\n",
              "\n",
              "  .colab-df-quickchart {\n",
              "    background-color: var(--bg-color);\n",
              "    border: none;\n",
              "    border-radius: 50%;\n",
              "    cursor: pointer;\n",
              "    display: none;\n",
              "    fill: var(--fill-color);\n",
              "    height: 32px;\n",
              "    padding: 0;\n",
              "    width: 32px;\n",
              "  }\n",
              "\n",
              "  .colab-df-quickchart:hover {\n",
              "    background-color: var(--hover-bg-color);\n",
              "    box-shadow: 0 1px 2px rgba(60, 64, 67, 0.3), 0 1px 3px 1px rgba(60, 64, 67, 0.15);\n",
              "    fill: var(--button-hover-fill-color);\n",
              "  }\n",
              "\n",
              "  .colab-df-quickchart-complete:disabled,\n",
              "  .colab-df-quickchart-complete:disabled:hover {\n",
              "    background-color: var(--disabled-bg-color);\n",
              "    fill: var(--disabled-fill-color);\n",
              "    box-shadow: none;\n",
              "  }\n",
              "\n",
              "  .colab-df-spinner {\n",
              "    border: 2px solid var(--fill-color);\n",
              "    border-color: transparent;\n",
              "    border-bottom-color: var(--fill-color);\n",
              "    animation:\n",
              "      spin 1s steps(1) infinite;\n",
              "  }\n",
              "\n",
              "  @keyframes spin {\n",
              "    0% {\n",
              "      border-color: transparent;\n",
              "      border-bottom-color: var(--fill-color);\n",
              "      border-left-color: var(--fill-color);\n",
              "    }\n",
              "    20% {\n",
              "      border-color: transparent;\n",
              "      border-left-color: var(--fill-color);\n",
              "      border-top-color: var(--fill-color);\n",
              "    }\n",
              "    30% {\n",
              "      border-color: transparent;\n",
              "      border-left-color: var(--fill-color);\n",
              "      border-top-color: var(--fill-color);\n",
              "      border-right-color: var(--fill-color);\n",
              "    }\n",
              "    40% {\n",
              "      border-color: transparent;\n",
              "      border-right-color: var(--fill-color);\n",
              "      border-top-color: var(--fill-color);\n",
              "    }\n",
              "    60% {\n",
              "      border-color: transparent;\n",
              "      border-right-color: var(--fill-color);\n",
              "    }\n",
              "    80% {\n",
              "      border-color: transparent;\n",
              "      border-right-color: var(--fill-color);\n",
              "      border-bottom-color: var(--fill-color);\n",
              "    }\n",
              "    90% {\n",
              "      border-color: transparent;\n",
              "      border-bottom-color: var(--fill-color);\n",
              "    }\n",
              "  }\n",
              "</style>\n",
              "\n",
              "  <script>\n",
              "    async function quickchart(key) {\n",
              "      const quickchartButtonEl =\n",
              "        document.querySelector('#' + key + ' button');\n",
              "      quickchartButtonEl.disabled = true;  // To prevent multiple clicks.\n",
              "      quickchartButtonEl.classList.add('colab-df-spinner');\n",
              "      try {\n",
              "        const charts = await google.colab.kernel.invokeFunction(\n",
              "            'suggestCharts', [key], {});\n",
              "      } catch (error) {\n",
              "        console.error('Error during call to suggestCharts:', error);\n",
              "      }\n",
              "      quickchartButtonEl.classList.remove('colab-df-spinner');\n",
              "      quickchartButtonEl.classList.add('colab-df-quickchart-complete');\n",
              "    }\n",
              "    (() => {\n",
              "      let quickchartButtonEl =\n",
              "        document.querySelector('#df-7c76bd9b-39a8-49a3-8478-59148759d79b button');\n",
              "      quickchartButtonEl.style.display =\n",
              "        google.colab.kernel.accessAllowed ? 'block' : 'none';\n",
              "    })();\n",
              "  </script>\n",
              "</div>\n",
              "\n",
              "    </div>\n",
              "  </div>\n"
            ],
            "application/vnd.google.colaboratory.intrinsic+json": {
              "type": "dataframe",
              "variable_name": "df2"
            }
          },
          "metadata": {},
          "execution_count": 18
        }
      ],
      "source": [
        "df2=df[df[\"Number of Policies\"]>1]\n",
        "print(df2.shape)\n",
        "df2.head()"
      ]
    },
    {
      "cell_type": "code",
      "source": [
        "df2[\"Total Claim Amount\"].mean()\n"
      ],
      "metadata": {
        "colab": {
          "base_uri": "https://localhost:8080/"
        },
        "id": "aH84ZHdp6sTs",
        "outputId": "3e824cbe-7dbe-47dc-9c20-2b5597cb16c9"
      },
      "execution_count": 17,
      "outputs": [
        {
          "output_type": "execute_result",
          "data": {
            "text/plain": [
              "430.6682882804692"
            ]
          },
          "metadata": {},
          "execution_count": 17
        }
      ]
    },
    {
      "cell_type": "markdown",
      "source": [
        "las personas personass con una mayor cantidad de polizas tienen un menor promedio de reclamaciones, en cuanto a la segmentacion poriamos desarrollar estrategias en las que ofrezcamos polizas con menor precio a las personas que ya cuentan con nuestros servicios."
      ],
      "metadata": {
        "id": "TyUj5GTT9MjM"
      }
    },
    {
      "cell_type": "markdown",
      "metadata": {
        "id": "vtiPHUZiZHN-"
      },
      "source": [
        "## Paso 8: Análisis del CLV según Vehicle Class\n",
        "1. Agrupa los datos por `Vehicle Class` y calcula el CLV promedio para cada clase.\n",
        "\n",
        "Pregunta: ¿Qué clase de vehículo se asocia a un mayor CLV y qué implicaciones podría tener esto en la estrategia de producto?"
      ]
    },
    {
      "cell_type": "code",
      "execution_count": 22,
      "metadata": {
        "id": "LdzNouGbZHN-",
        "colab": {
          "base_uri": "https://localhost:8080/",
          "height": 304
        },
        "outputId": "fe27d955-13d6-4275-e044-f777f452859d"
      },
      "outputs": [
        {
          "output_type": "execute_result",
          "data": {
            "text/plain": [
              "Vehicle Class\n",
              "Four-Door Car     6631.726607\n",
              "Luxury Car       17053.348399\n",
              "Luxury SUV       17122.999134\n",
              "SUV              10443.511816\n",
              "Sports Car       10750.989331\n",
              "Two-Door Car      6671.030732\n",
              "Name: Customer Lifetime Value, dtype: float64"
            ],
            "text/html": [
              "<div>\n",
              "<style scoped>\n",
              "    .dataframe tbody tr th:only-of-type {\n",
              "        vertical-align: middle;\n",
              "    }\n",
              "\n",
              "    .dataframe tbody tr th {\n",
              "        vertical-align: top;\n",
              "    }\n",
              "\n",
              "    .dataframe thead th {\n",
              "        text-align: right;\n",
              "    }\n",
              "</style>\n",
              "<table border=\"1\" class=\"dataframe\">\n",
              "  <thead>\n",
              "    <tr style=\"text-align: right;\">\n",
              "      <th></th>\n",
              "      <th>Customer Lifetime Value</th>\n",
              "    </tr>\n",
              "    <tr>\n",
              "      <th>Vehicle Class</th>\n",
              "      <th></th>\n",
              "    </tr>\n",
              "  </thead>\n",
              "  <tbody>\n",
              "    <tr>\n",
              "      <th>Four-Door Car</th>\n",
              "      <td>6631.726607</td>\n",
              "    </tr>\n",
              "    <tr>\n",
              "      <th>Luxury Car</th>\n",
              "      <td>17053.348399</td>\n",
              "    </tr>\n",
              "    <tr>\n",
              "      <th>Luxury SUV</th>\n",
              "      <td>17122.999134</td>\n",
              "    </tr>\n",
              "    <tr>\n",
              "      <th>SUV</th>\n",
              "      <td>10443.511816</td>\n",
              "    </tr>\n",
              "    <tr>\n",
              "      <th>Sports Car</th>\n",
              "      <td>10750.989331</td>\n",
              "    </tr>\n",
              "    <tr>\n",
              "      <th>Two-Door Car</th>\n",
              "      <td>6671.030732</td>\n",
              "    </tr>\n",
              "  </tbody>\n",
              "</table>\n",
              "</div><br><label><b>dtype:</b> float64</label>"
            ]
          },
          "metadata": {},
          "execution_count": 22
        }
      ],
      "source": [
        "df.groupby(\"Vehicle Class\")[\"Customer Lifetime Value\"].mean()"
      ]
    },
    {
      "cell_type": "markdown",
      "source": [
        "la luxury SUV es quien representa un mayor CLV, esto ùede indicar que nuestro producto es adquirido por personas con fuerts ingresos y que asegurar carros de alto valor nos da un mayor ingreso.\n"
      ],
      "metadata": {
        "id": "T6Yo7itu_86m"
      }
    },
    {
      "cell_type": "markdown",
      "metadata": {
        "id": "VCd_L8qhZHN-"
      },
      "source": [
        "## Paso 9: Análisis de Months Since Last Claim según Education\n",
        "1. Agrupa los datos por `Education` y calcula el promedio de `Months Since Last Claim`.\n",
        "\n",
        "Pregunta: ¿Existen diferencias notables entre los niveles educativos? ¿Qué podría indicar sobre la gestión de reclamos?"
      ]
    },
    {
      "cell_type": "code",
      "execution_count": 23,
      "metadata": {
        "id": "D7AIwvBOZHN-",
        "colab": {
          "base_uri": "https://localhost:8080/",
          "height": 272
        },
        "outputId": "72e11d46-ed48-4e8e-a241-c47bf7c6a4f5"
      },
      "outputs": [
        {
          "output_type": "execute_result",
          "data": {
            "text/plain": [
              "Education\n",
              "Bachelor                14.834789\n",
              "College                 15.432301\n",
              "Doctor                  15.260234\n",
              "High School or Below    14.978642\n",
              "Master                  15.199730\n",
              "Name: Months Since Last Claim, dtype: float64"
            ],
            "text/html": [
              "<div>\n",
              "<style scoped>\n",
              "    .dataframe tbody tr th:only-of-type {\n",
              "        vertical-align: middle;\n",
              "    }\n",
              "\n",
              "    .dataframe tbody tr th {\n",
              "        vertical-align: top;\n",
              "    }\n",
              "\n",
              "    .dataframe thead th {\n",
              "        text-align: right;\n",
              "    }\n",
              "</style>\n",
              "<table border=\"1\" class=\"dataframe\">\n",
              "  <thead>\n",
              "    <tr style=\"text-align: right;\">\n",
              "      <th></th>\n",
              "      <th>Months Since Last Claim</th>\n",
              "    </tr>\n",
              "    <tr>\n",
              "      <th>Education</th>\n",
              "      <th></th>\n",
              "    </tr>\n",
              "  </thead>\n",
              "  <tbody>\n",
              "    <tr>\n",
              "      <th>Bachelor</th>\n",
              "      <td>14.834789</td>\n",
              "    </tr>\n",
              "    <tr>\n",
              "      <th>College</th>\n",
              "      <td>15.432301</td>\n",
              "    </tr>\n",
              "    <tr>\n",
              "      <th>Doctor</th>\n",
              "      <td>15.260234</td>\n",
              "    </tr>\n",
              "    <tr>\n",
              "      <th>High School or Below</th>\n",
              "      <td>14.978642</td>\n",
              "    </tr>\n",
              "    <tr>\n",
              "      <th>Master</th>\n",
              "      <td>15.199730</td>\n",
              "    </tr>\n",
              "  </tbody>\n",
              "</table>\n",
              "</div><br><label><b>dtype:</b> float64</label>"
            ]
          },
          "metadata": {},
          "execution_count": 23
        }
      ],
      "source": [
        "df.groupby(\"Education\")[\"Months Since Last Claim\"].mean()"
      ]
    },
    {
      "cell_type": "markdown",
      "source": [
        "los niveles mas alto muestran una un menor tiempo desde el ultimo reclamo, auqnuye nos vea una correlacion directa, podria llegar a influir la edad y educacion que representa estar en cada nivel por lo que son personas mas cuidadosas y responsables."
      ],
      "metadata": {
        "id": "J-JpnXhCAvFs"
      }
    },
    {
      "cell_type": "markdown",
      "metadata": {
        "id": "cQfegNw8ZHN-"
      },
      "source": [
        "## Paso 10: Análisis del Income según Marital Status y Gender\n",
        "1. Realiza una segmentación cruzada agrupando por `Marital Status` y `Gender` para calcular el ingreso promedio.\n",
        "\n",
        "Pregunta: ¿Qué diferencias observas? ¿Cómo podrían influir estas diferencias en la estrategia de segmentación de clientes?"
      ]
    },
    {
      "cell_type": "code",
      "execution_count": 24,
      "metadata": {
        "id": "ZlHKlPVjZHN-",
        "colab": {
          "base_uri": "https://localhost:8080/",
          "height": 304
        },
        "outputId": "abca1689-5112-4efd-9ce5-f0fab79ce086"
      },
      "outputs": [
        {
          "output_type": "execute_result",
          "data": {
            "text/plain": [
              "Marital Status  Gender\n",
              "Divorced        F         37913.709450\n",
              "                M         43681.934848\n",
              "Married         F         44276.994962\n",
              "                M         43304.110361\n",
              "Single          F         23573.758120\n",
              "                M         22005.776407\n",
              "Name: Income, dtype: float64"
            ],
            "text/html": [
              "<div>\n",
              "<style scoped>\n",
              "    .dataframe tbody tr th:only-of-type {\n",
              "        vertical-align: middle;\n",
              "    }\n",
              "\n",
              "    .dataframe tbody tr th {\n",
              "        vertical-align: top;\n",
              "    }\n",
              "\n",
              "    .dataframe thead th {\n",
              "        text-align: right;\n",
              "    }\n",
              "</style>\n",
              "<table border=\"1\" class=\"dataframe\">\n",
              "  <thead>\n",
              "    <tr style=\"text-align: right;\">\n",
              "      <th></th>\n",
              "      <th></th>\n",
              "      <th>Income</th>\n",
              "    </tr>\n",
              "    <tr>\n",
              "      <th>Marital Status</th>\n",
              "      <th>Gender</th>\n",
              "      <th></th>\n",
              "    </tr>\n",
              "  </thead>\n",
              "  <tbody>\n",
              "    <tr>\n",
              "      <th rowspan=\"2\" valign=\"top\">Divorced</th>\n",
              "      <th>F</th>\n",
              "      <td>37913.709450</td>\n",
              "    </tr>\n",
              "    <tr>\n",
              "      <th>M</th>\n",
              "      <td>43681.934848</td>\n",
              "    </tr>\n",
              "    <tr>\n",
              "      <th rowspan=\"2\" valign=\"top\">Married</th>\n",
              "      <th>F</th>\n",
              "      <td>44276.994962</td>\n",
              "    </tr>\n",
              "    <tr>\n",
              "      <th>M</th>\n",
              "      <td>43304.110361</td>\n",
              "    </tr>\n",
              "    <tr>\n",
              "      <th rowspan=\"2\" valign=\"top\">Single</th>\n",
              "      <th>F</th>\n",
              "      <td>23573.758120</td>\n",
              "    </tr>\n",
              "    <tr>\n",
              "      <th>M</th>\n",
              "      <td>22005.776407</td>\n",
              "    </tr>\n",
              "  </tbody>\n",
              "</table>\n",
              "</div><br><label><b>dtype:</b> float64</label>"
            ]
          },
          "metadata": {},
          "execution_count": 24
        }
      ],
      "source": [
        "df.groupby([\"Marital Status\",\"Gender\"])[\"Income\"].mean()"
      ]
    },
    {
      "cell_type": "markdown",
      "source": [
        "la unica categoria en la que los hombres poseen mayor ingreso es en divorciados , tambien es donde mas brecha existe. En general deberiamos enfocarnos en divorciados y casados ya que es donde mas dinerro existe."
      ],
      "metadata": {
        "id": "Nr1GhfgsB66m"
      }
    },
    {
      "cell_type": "markdown",
      "metadata": {
        "id": "qbvaFaJqZHN-"
      },
      "source": [
        "## Paso 11: Distribución de la Columna Response\n",
        "1. Usa `value_counts()` para mostrar cuántos clientes hay en cada grupo de Response.\n",
        "\n",
        "Pregunta: ¿La distribución de respuestas sugiere que se debe ajustar la estrategia de comunicación?"
      ]
    },
    {
      "cell_type": "code",
      "execution_count": 25,
      "metadata": {
        "id": "p5KLnw5oZHN-",
        "colab": {
          "base_uri": "https://localhost:8080/",
          "height": 178
        },
        "outputId": "08153e5b-c43b-4b0b-b844-9f2fdc0049a2"
      },
      "outputs": [
        {
          "output_type": "execute_result",
          "data": {
            "text/plain": [
              "Response\n",
              "No     7826\n",
              "Yes    1308\n",
              "Name: Customer, dtype: int64"
            ],
            "text/html": [
              "<div>\n",
              "<style scoped>\n",
              "    .dataframe tbody tr th:only-of-type {\n",
              "        vertical-align: middle;\n",
              "    }\n",
              "\n",
              "    .dataframe tbody tr th {\n",
              "        vertical-align: top;\n",
              "    }\n",
              "\n",
              "    .dataframe thead th {\n",
              "        text-align: right;\n",
              "    }\n",
              "</style>\n",
              "<table border=\"1\" class=\"dataframe\">\n",
              "  <thead>\n",
              "    <tr style=\"text-align: right;\">\n",
              "      <th></th>\n",
              "      <th>Customer</th>\n",
              "    </tr>\n",
              "    <tr>\n",
              "      <th>Response</th>\n",
              "      <th></th>\n",
              "    </tr>\n",
              "  </thead>\n",
              "  <tbody>\n",
              "    <tr>\n",
              "      <th>No</th>\n",
              "      <td>7826</td>\n",
              "    </tr>\n",
              "    <tr>\n",
              "      <th>Yes</th>\n",
              "      <td>1308</td>\n",
              "    </tr>\n",
              "  </tbody>\n",
              "</table>\n",
              "</div><br><label><b>dtype:</b> int64</label>"
            ]
          },
          "metadata": {},
          "execution_count": 25
        }
      ],
      "source": [
        "df.groupby(\"Response\")[\"Customer\"].count()"
      ]
    },
    {
      "cell_type": "markdown",
      "source": [
        "la segmentacion y o estructura"
      ],
      "metadata": {
        "id": "RWgOmMfNDoPJ"
      }
    },
    {
      "cell_type": "markdown",
      "metadata": {
        "id": "R6SPMEuMZHN_"
      },
      "source": [
        "## Paso 12: Análisis de Quejas Abiertas por Coverage\n",
        "1. Agrupa los datos por `Coverage` y calcula el número promedio de quejas abiertas (`Number of Open Complaints`).\n",
        "\n",
        "Pregunta: ¿Existen coberturas con un número de quejas significativamente mayor? ¿Qué acciones se podrían tomar?"
      ]
    },
    {
      "cell_type": "code",
      "execution_count": 27,
      "metadata": {
        "id": "6rIalm7TZHN_",
        "colab": {
          "base_uri": "https://localhost:8080/",
          "height": 210
        },
        "outputId": "83184e07-58d8-496c-e502-36c040cbdd9a"
      },
      "outputs": [
        {
          "output_type": "execute_result",
          "data": {
            "text/plain": [
              "Coverage\n",
              "Basic       0.384698\n",
              "Extended    0.398979\n",
              "Premium     0.333738\n",
              "Name: Number of Open Complaints, dtype: float64"
            ],
            "text/html": [
              "<div>\n",
              "<style scoped>\n",
              "    .dataframe tbody tr th:only-of-type {\n",
              "        vertical-align: middle;\n",
              "    }\n",
              "\n",
              "    .dataframe tbody tr th {\n",
              "        vertical-align: top;\n",
              "    }\n",
              "\n",
              "    .dataframe thead th {\n",
              "        text-align: right;\n",
              "    }\n",
              "</style>\n",
              "<table border=\"1\" class=\"dataframe\">\n",
              "  <thead>\n",
              "    <tr style=\"text-align: right;\">\n",
              "      <th></th>\n",
              "      <th>Number of Open Complaints</th>\n",
              "    </tr>\n",
              "    <tr>\n",
              "      <th>Coverage</th>\n",
              "      <th></th>\n",
              "    </tr>\n",
              "  </thead>\n",
              "  <tbody>\n",
              "    <tr>\n",
              "      <th>Basic</th>\n",
              "      <td>0.384698</td>\n",
              "    </tr>\n",
              "    <tr>\n",
              "      <th>Extended</th>\n",
              "      <td>0.398979</td>\n",
              "    </tr>\n",
              "    <tr>\n",
              "      <th>Premium</th>\n",
              "      <td>0.333738</td>\n",
              "    </tr>\n",
              "  </tbody>\n",
              "</table>\n",
              "</div><br><label><b>dtype:</b> float64</label>"
            ]
          },
          "metadata": {},
          "execution_count": 27
        }
      ],
      "source": [
        "df.groupby(\"Coverage\")[\"Number of Open Complaints\"].mean()"
      ]
    },
    {
      "cell_type": "markdown",
      "source": [],
      "metadata": {
        "id": "Lsvv9_UKD9-C"
      }
    },
    {
      "cell_type": "markdown",
      "metadata": {
        "id": "d7wQ2NncZHN_"
      },
      "source": [
        "## Paso 13: Análisis de la Antigüedad de las Pólizas según EmploymentStatus\n",
        "1. Agrupa por `EmploymentStatus` y calcula el promedio de `Months Since Policy Inception`.\n",
        "\n",
        "Pregunta: ¿Existe alguna relación entre el estado laboral y la antigüedad de las pólizas? ¿Qué podría implicar esto en la estabilidad del cliente?"
      ]
    },
    {
      "cell_type": "code",
      "execution_count": 28,
      "metadata": {
        "id": "3DvT3EAnZHN_",
        "colab": {
          "base_uri": "https://localhost:8080/",
          "height": 272
        },
        "outputId": "250ec86f-c061-43fc-b636-8bf359734a67"
      },
      "outputs": [
        {
          "output_type": "execute_result",
          "data": {
            "text/plain": [
              "EmploymentStatus\n",
              "Disabled         47.469136\n",
              "Employed         47.800456\n",
              "Medical Leave    48.141204\n",
              "Retired          48.531915\n",
              "Unemployed       48.747087\n",
              "Name: Months Since Policy Inception, dtype: float64"
            ],
            "text/html": [
              "<div>\n",
              "<style scoped>\n",
              "    .dataframe tbody tr th:only-of-type {\n",
              "        vertical-align: middle;\n",
              "    }\n",
              "\n",
              "    .dataframe tbody tr th {\n",
              "        vertical-align: top;\n",
              "    }\n",
              "\n",
              "    .dataframe thead th {\n",
              "        text-align: right;\n",
              "    }\n",
              "</style>\n",
              "<table border=\"1\" class=\"dataframe\">\n",
              "  <thead>\n",
              "    <tr style=\"text-align: right;\">\n",
              "      <th></th>\n",
              "      <th>Months Since Policy Inception</th>\n",
              "    </tr>\n",
              "    <tr>\n",
              "      <th>EmploymentStatus</th>\n",
              "      <th></th>\n",
              "    </tr>\n",
              "  </thead>\n",
              "  <tbody>\n",
              "    <tr>\n",
              "      <th>Disabled</th>\n",
              "      <td>47.469136</td>\n",
              "    </tr>\n",
              "    <tr>\n",
              "      <th>Employed</th>\n",
              "      <td>47.800456</td>\n",
              "    </tr>\n",
              "    <tr>\n",
              "      <th>Medical Leave</th>\n",
              "      <td>48.141204</td>\n",
              "    </tr>\n",
              "    <tr>\n",
              "      <th>Retired</th>\n",
              "      <td>48.531915</td>\n",
              "    </tr>\n",
              "    <tr>\n",
              "      <th>Unemployed</th>\n",
              "      <td>48.747087</td>\n",
              "    </tr>\n",
              "  </tbody>\n",
              "</table>\n",
              "</div><br><label><b>dtype:</b> float64</label>"
            ]
          },
          "metadata": {},
          "execution_count": 28
        }
      ],
      "source": [
        "df.groupby(\"EmploymentStatus\")[\"Months Since Policy Inception\"].mean()"
      ]
    },
    {
      "cell_type": "markdown",
      "source": [
        "los retirados y desempleados son quienes mas tiempo promedio poseen quizas algunas personas o fueron contradas debio a su edad por lo que suman tiempo a la categoria de desempleados, si ese fuese el caso significa que tenemos clientes mayres que llevan ya una laragg relacionb con la empresa. Los jubilados al tener un ingreso fijo por pension representan un cliente estable y duradero."
      ],
      "metadata": {
        "id": "_JKp6P2HExQ8"
      }
    },
    {
      "cell_type": "markdown",
      "metadata": {
        "id": "S_pRUmAsZHN_"
      },
      "source": [
        "## Paso 14: Análisis del Total Claim Amount según Policy Type\n",
        "1. Agrupa por `Policy Type` y calcula el Total Claim Amount promedio para cada tipo de póliza.\n",
        "\n",
        "Pregunta: ¿Qué diferencias se observan entre los tipos de póliza y qué podrían implicar en términos de riesgo y eficiencia operativa?"
      ]
    },
    {
      "cell_type": "code",
      "execution_count": 29,
      "metadata": {
        "id": "0q5ZwE_jZHN_",
        "colab": {
          "base_uri": "https://localhost:8080/",
          "height": 210
        },
        "outputId": "330bd9d9-ed4d-491a-d974-392e86619051"
      },
      "outputs": [
        {
          "output_type": "execute_result",
          "data": {
            "text/plain": [
              "Policy Type\n",
              "Corporate Auto    430.312188\n",
              "Personal Auto     434.828219\n",
              "Special Auto      440.472770\n",
              "Name: Total Claim Amount, dtype: float64"
            ],
            "text/html": [
              "<div>\n",
              "<style scoped>\n",
              "    .dataframe tbody tr th:only-of-type {\n",
              "        vertical-align: middle;\n",
              "    }\n",
              "\n",
              "    .dataframe tbody tr th {\n",
              "        vertical-align: top;\n",
              "    }\n",
              "\n",
              "    .dataframe thead th {\n",
              "        text-align: right;\n",
              "    }\n",
              "</style>\n",
              "<table border=\"1\" class=\"dataframe\">\n",
              "  <thead>\n",
              "    <tr style=\"text-align: right;\">\n",
              "      <th></th>\n",
              "      <th>Total Claim Amount</th>\n",
              "    </tr>\n",
              "    <tr>\n",
              "      <th>Policy Type</th>\n",
              "      <th></th>\n",
              "    </tr>\n",
              "  </thead>\n",
              "  <tbody>\n",
              "    <tr>\n",
              "      <th>Corporate Auto</th>\n",
              "      <td>430.312188</td>\n",
              "    </tr>\n",
              "    <tr>\n",
              "      <th>Personal Auto</th>\n",
              "      <td>434.828219</td>\n",
              "    </tr>\n",
              "    <tr>\n",
              "      <th>Special Auto</th>\n",
              "      <td>440.472770</td>\n",
              "    </tr>\n",
              "  </tbody>\n",
              "</table>\n",
              "</div><br><label><b>dtype:</b> float64</label>"
            ]
          },
          "metadata": {},
          "execution_count": 29
        }
      ],
      "source": [
        "df.groupby(\"Policy Type\")[\"Total Claim Amount\"].mean()"
      ]
    },
    {
      "cell_type": "markdown",
      "source": [
        "los autos exoticos  de coleccion son quienes mas presentan reclamos, al ser carros unicos deben ser bastante costosos y una gran cantidad de reclamos dde este tipo de vehiculos debe ser poco rentable para la empresa."
      ],
      "metadata": {
        "id": "B0uvnAxCFtzA"
      }
    },
    {
      "cell_type": "markdown",
      "metadata": {
        "id": "dv45Mm6LZHN_"
      },
      "source": [
        "## Caso de Negocio: Evaluación de la Inversión en Marketing\n",
        "\n",
        "### Contexto:\n",
        "Una compañía de seguros ha asignado un presupuesto ficticio de **$5,000,000** para campañas de adquisición. El objetivo es evaluar la rentabilidad de la inversión comparando el gasto de marketing ( 50000000) (CAC) con el Customer Lifetime Value (CLV) obtenido.\n",
        "\n",
        "### Tareas:\n",
        "1. Utiliza el CLV promedio obtenido en el Paso 2.\n",
        "2. Calcula el CAC promedio dividiendo el presupuesto de marketing entre el número total de clientes.\n",
        "3. Compara el CAC promedio con el CLV promedio y responde:\n",
        "   - ¿El CAC es inferior al CLV, lo que justificaría la inversión?\n",
        "   - ¿Qué porcentaje del CLV representa el CAC?\n",
        "\n",
        "_Reflexión estratégica: Si el CAC es significativamente menor que el CLV, la inversión en marketing es rentable. De lo contrario, se deberá replantear la estrategia de adquisición._"
      ]
    },
    {
      "cell_type": "code",
      "source": [
        "5000000 / 9134"
      ],
      "metadata": {
        "id": "RBRUwb8OcE9P",
        "colab": {
          "base_uri": "https://localhost:8080/"
        },
        "outputId": "d00c7099-88f7-456f-fdad-753ef4b64df5"
      },
      "execution_count": 32,
      "outputs": [
        {
          "output_type": "execute_result",
          "data": {
            "text/plain": [
              "547.4052988832932"
            ]
          },
          "metadata": {},
          "execution_count": 32
        }
      ]
    },
    {
      "cell_type": "markdown",
      "source": [],
      "metadata": {
        "id": "FbagcqppKpOg"
      }
    },
    {
      "cell_type": "code",
      "source": [
        "df[\"Customer Lifetime Value\"].mean()"
      ],
      "metadata": {
        "id": "x0huXHVpcE5y",
        "colab": {
          "base_uri": "https://localhost:8080/"
        },
        "outputId": "2dbfb12a-0e63-45ba-819d-8673bee6aac4"
      },
      "execution_count": 34,
      "outputs": [
        {
          "output_type": "execute_result",
          "data": {
            "text/plain": [
              "8004.940474987081"
            ]
          },
          "metadata": {},
          "execution_count": 34
        }
      ]
    },
    {
      "cell_type": "code",
      "source": [
        "si, el cac es sustancialmente inferior ppor lo que numericamente es rentable para la empresa"
      ],
      "metadata": {
        "id": "2LLYny3xcHvo"
      },
      "execution_count": null,
      "outputs": []
    },
    {
      "cell_type": "code",
      "source": [
        "(547.4052988832932/8004.940474987081) *100\n"
      ],
      "metadata": {
        "id": "w7Z4XhIYcaNq",
        "colab": {
          "base_uri": "https://localhost:8080/"
        },
        "outputId": "90cca376-6f98-4b77-abff-1937f1df2342"
      },
      "execution_count": 41,
      "outputs": [
        {
          "output_type": "execute_result",
          "data": {
            "text/plain": [
              "6.838343153128526"
            ]
          },
          "metadata": {},
          "execution_count": 41
        }
      ]
    },
    {
      "cell_type": "code",
      "source": [],
      "metadata": {
        "id": "LwTjvOmAcHhU"
      },
      "execution_count": null,
      "outputs": []
    },
    {
      "cell_type": "markdown",
      "source": [
        "### **Bonus:** Teniendo lo anterior en cual es la proporcion de clientes rentables"
      ],
      "metadata": {
        "id": "jxs59vjXa7RK"
      }
    },
    {
      "cell_type": "code",
      "source": [],
      "metadata": {
        "id": "t9RTzcoIazea"
      },
      "execution_count": null,
      "outputs": []
    },
    {
      "cell_type": "markdown",
      "metadata": {
        "id": "ICF1oz4cZHN_"
      },
      "source": [
        "## Conclusiones y Recomendaciones\n",
        "\n",
        "### **Bonus 2:** En no más de un parrafo mencione 3 acciones concretas para mejorar los reusltados de la empresa.\n"
      ]
    },
    {
      "cell_type": "code",
      "source": [],
      "metadata": {
        "id": "N6IpeZWgcb2F"
      },
      "execution_count": null,
      "outputs": []
    }
  ],
  "metadata": {
    "colab": {
      "provenance": []
    },
    "kernelspec": {
      "display_name": "Python 3",
      "language": "python",
      "name": "python3"
    },
    "language_info": {
      "name": "python"
    }
  },
  "nbformat": 4,
  "nbformat_minor": 0
}